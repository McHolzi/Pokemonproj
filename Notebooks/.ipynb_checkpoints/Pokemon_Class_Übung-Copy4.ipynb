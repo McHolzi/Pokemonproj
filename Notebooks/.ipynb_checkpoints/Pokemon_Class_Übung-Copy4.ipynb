{
 "cells": [
  {
   "cell_type": "code",
   "execution_count": 3,
   "metadata": {},
   "outputs": [],
   "source": [
    "import random"
   ]
  },
  {
   "cell_type": "code",
   "execution_count": 1,
   "metadata": {},
   "outputs": [],
   "source": [
    "class poketrainer():\n",
    "    \n",
    "    def __init__(self):\n",
    "        self.geld=100\n",
    "        self.trank=0 \n",
    "        self.pok_sack = []\n",
    "        self.pok_ball=0\n",
    "        \n",
    "    def kaufe_trank(self, anzahl):\n",
    "        if trainer.geld>= 300*anzahl:\n",
    "            trainer.geld-=300*anzahl\n",
    "            trainer.trank+=1*anzahl\n",
    "            print('Du hast', anzahl, 'mal Trank um je 300 Goldstücke gekauft.')\n",
    "            print('Du hast jetzt', trainer.trank, 'Tränke')\n",
    "            print()\n",
    "        else:\n",
    "            print('Zu wenig Geld!')\n",
    "            print()\n",
    "       \n",
    "    def kaufe_pok_ball(self, anzahl):\n",
    "        if self.geld>=50*anzahl:\n",
    "            self.pok_ball +=1*anzahl\n",
    "            self.geld -=50*anzahl\n",
    "            print('Du hast', anzahl, 'mal Pokball um je 50 Goldstücke gekauft.')\n",
    "            print('Du hast jetzt', self.pok_ball, 'Pokbälle.')\n",
    "            print()\n",
    "        else:\n",
    "            print('Zu wenig Geld!')\n",
    "            print()\n",
    "    def heile_pok(self):\n",
    "        if self.trank >= 1:\n",
    "            trainer.sack_anschauen()\n",
    "            welchespok = input('Welches Pok willst du heilen lassen? (Nummer)')\n",
    "            print()\n",
    "            trainer.pok_sack[int(welchespok)-1].leb = trainer.pok_sack[int(welchespok)-1].lebenges\n",
    "            self.trank -=1\n",
    "            trainer.pok_sack[int(welchespok)-1].tot = False\n",
    "            trainer.pok_sack[int(welchespok)-1].status()\n",
    "        else:\n",
    "            print('Du hast keine Tränke!')\n",
    "    \n",
    "    def neues_pok(self,ang,vert,leb,name,entw1,entw2):\n",
    "        self.pok_sack.append(pokemon_genau(ang, vert, leb, name, entw1,entw2))\n",
    "    \n",
    "    def sack_anschauen(self):\n",
    "        print('In deinem Poksack befinden sich:') \n",
    "        for i in range(0,len(self.pok_sack)):\n",
    "            print(i+1,'.',self.pok_sack[i].nam)\n",
    "        print()\n",
    "    def inventar(self):\n",
    "        print('In deinem Inventar befinden sich:')\n",
    "        print(self.geld, 'Goldstücke')\n",
    "        print(self.trank, 'Tränke')\n",
    "        print(self.pok_ball, 'Pokbälle')\n",
    "    \n",
    "    def hohes_gras_funkt(self):\n",
    "        trainer.sack_anschauen()\n",
    "        welchespok = input('Welches Pok willst du kämpfen lassen? (Nummer)')\n",
    "        trainer.pok_sack[int(welchespok)-1].hohes_gras()\n",
    "        \n",
    "    def status_funkt(self):\n",
    "        trainer.sack_anschauen()\n",
    "        welchespok = input('Von welchem Pok willst du den Status wissen? (Nummer)')\n",
    "        trainer.pok_sack[int(welchespok)-1].status()\n",
    "\n",
    "        \n",
    "\n",
    "trainer = poketrainer()"
   ]
  },
  {
   "cell_type": "code",
   "execution_count": 8,
   "metadata": {},
   "outputs": [],
   "source": [
    "class shop():\n",
    "    möglichkeiten = {\n",
    "        'Trank' : trainer.kaufe_trank,\n",
    "        'Pokball' : trainer.kaufe_pok_ball\n",
    "    }\n",
    "    def __init__(self):\n",
    "        self.tränke= 0\n",
    "        self.pok_bälle=0\n",
    "        \n",
    "    def shopping(self):\n",
    "        self.tränke = random.randint(1,5)\n",
    "        self.pok_bälle = random.randint(0,3)\n",
    "        print('Hallo, du brauchen, ich haben:')\n",
    "        print('Tränke:', self.tränke, 'für 300 Gold pro Stück.')\n",
    "        print('Pokbälle:', self.pok_bälle, 'für 50 Gold pro Stück.')\n",
    "        kauf = input('Was willst du kaufen?')\n",
    "        \n",
    "        if kauf in self.möglichkeiten:\n",
    "            \n",
    "                self.möglichkeiten[kauf](int(input('Wie viel Stück willst du kaufen?')))\n",
    "            \n",
    "shop1 = shop()    "
   ]
  },
  {
   "cell_type": "code",
   "execution_count": 4,
   "metadata": {},
   "outputs": [],
   "source": [
    "class pokemon():\n",
    "    \n",
    "    def __init__(self):\n",
    "        self.exp = 0\n",
    "        self.level = 1\n",
    "        self.tot = False "
   ]
  },
  {
   "cell_type": "code",
   "execution_count": 5,
   "metadata": {},
   "outputs": [],
   "source": [
    "class pokemon_genau(pokemon):\n",
    "    \n",
    "    def __init__(self, angriff, verteidigung, leben, name, entw1, entw2):\n",
    "        pokemon.__init__(self)\n",
    "        self.ang = angriff\n",
    "        self.vert = verteidigung\n",
    "        self.leb = leben\n",
    "        self.lebenges = leben\n",
    "        self.nam = name\n",
    "        self.entw1 = entw1\n",
    "        self.entw2 = entw2\n",
    "        self.expgain = int((angriff + verteidigung + leben*0.3)/3)\n",
    "        self.krit = random.randint(10,40)\n",
    "        self.exp_needed = 100\n",
    "        \n",
    "    def status(self):\n",
    "        print('Status von ', self.nam,':')\n",
    "        print('Angriff: ', self.ang)\n",
    "        print('Kritisch: ', self.krit)\n",
    "        print('Verteidigung: ', self.vert)\n",
    "        print('Leben: ', self.leb, 'von' , self.lebenges)\n",
    "        print('Exp: ', self.exp)\n",
    "        print('Level', self.level)\n",
    "        print()\n",
    "        if self.exp > self.exp_needed: \n",
    "            self.level_up()\n",
    "            print('Juhuuu, ',self.nam, ' hat Level ', self.level, ' erreicht!')\n",
    "        if self.level == 5:\n",
    "            self.evolve1()\n",
    "    \n",
    "    def level_up(self):\n",
    "        self.ang=int(self.ang*1.2)\n",
    "        self.vert = int(self.vert*1.2)\n",
    "        self.lebenges = int(self.lebenges*1.2)\n",
    "        self.exp = 0 \n",
    "        self.level+=1\n",
    "        self.leb = self.lebenges\n",
    "        self.exp_needed = self.exp_needed*1.1 \n",
    "        \n",
    "    def evolve1(self):\n",
    "        self.nam = self.entw1\n",
    "        \n",
    "    def kampf(self, pok2):\n",
    "        fangbar = random.randint(0,2)\n",
    "        gefangen = random.randint(0,2)\n",
    "        if self.tot or pok2.tot:\n",
    "            print('Kämpfen nicht möglich, eines der Pokemon hat keine Lebenspunkte mehr.')\n",
    "\n",
    "        while self.tot == False and pok2.tot ==False:\n",
    "            kritisch1 = random.randint(0,self.krit)\n",
    "            kritisch2 = random.randint(0,pok2.krit)\n",
    "            if kritisch1 == 10:\n",
    "                pok2.leb = int(pok2.leb - self.ang/pok2.vert*10*5)\n",
    "            else:\n",
    "                pok2.leb = int(pok2.leb - self.ang/pok2.vert*10)\n",
    "            if kritisch2 == 10:\n",
    "                self.leb = int(self.leb - pok2.ang/self.vert*10*5)\n",
    "            else:\n",
    "                self.leb = int(self.leb - pok2.ang/self.vert*10)\n",
    "            print(pok2.nam, ' hat ', pok2.leb, ' Lebenspunkte (-',int(self.ang/pok2.vert*10),')')\n",
    "            print(self.nam, ' hat ', self.leb, ' Lebenspunkte (-',int(pok2.ang/self.vert*10),')')\n",
    "            print()\n",
    "            if self.leb <=0 and pok2.leb<=0:\n",
    "                if int(self.ang/pok2.vert*10) > int(pok2.ang/self.vert*10):\n",
    "                    print(pok2.nam, ' hat mit letzter Kraft ', self.nam, ' besiegt.')\n",
    "                    pok2.leb =10\n",
    "                else:\n",
    "                    print(self.nam, ' hat mit letzter Kraft ', pok2.nam, ' besiegt.')\n",
    "                    self.leb =10\n",
    "                \n",
    "            if self.leb <= 0:\n",
    "                pok2.exp = pok2.exp + self.expgain\n",
    "                self.tot = True\n",
    "                self.leb = 0\n",
    "                weiter = input(str(self.nam)+'hat keine Lebenspunkte mehr, willst du weiter kämpfen? (Ja, Nein)')\n",
    "                if weiter == 'Ja':\n",
    "                    welchespok = input('Welches Pok willst du kämpfen lassen? (Nummer)')\n",
    "                    trainer.pok_sack[int(welchespok)-1].kampf(pok2)\n",
    "                    break\n",
    "            if pok2.leb <= 0:\n",
    "                self.exp = self.exp + pok2.expgain\n",
    "                pok2.tot = True\n",
    "                pok2.leb = 0\n",
    "                trainer.geld += int((pok2.ang + pok2.vert + pok2.lebenges*0.5))\n",
    "                print('Du hast', int((pok2.ang + pok2.vert + pok2.lebenges*0.5)), 'Goldstücke erhalten')\n",
    "                \n",
    "        if fangbar == 1 and pok2.leb<=0:\n",
    "            fangen = input(pok2.nam + 'scheint sich zu unterwerfen, willst du veruchen es zu fangen? (Ja, Nein)')\n",
    "                    \n",
    "            if fangen == 'Ja' and trainer.pok_ball > 0:\n",
    "                trainer.pok_ball-=1\n",
    "                        \n",
    "                if gefangen == 1:\n",
    "                    pok2.leb= pok2.lebenges\n",
    "                    pok2.tot = False\n",
    "                    trainer.pok_sack.append(pok2)\n",
    "                    print('Du hast', pok2.nam, 'gefangen!!!')\n",
    "                            \n",
    "                else:\n",
    "                    print('Schade,', pok2.nam, 'hat es sich anders überlegt...')\n",
    "            else:\n",
    "                print('Keine Pokbälle mehr!')\n",
    "                print()\n",
    "        else:\n",
    "            print(pok2.nam, 'ist geflohen...') #warum wird das auch angezeigt wenn man es fängt?\n",
    "            print()\n",
    "                         \n",
    "        print(self.nam, 'hat jetzt noch ', self.leb, ' Leben')\n",
    "        print()\n",
    "          \n",
    "\n",
    "    def hohes_gras(self):\n",
    "            namen = [['Taubsi','Tauberich','Tauberus'],['Ditto', 'Litto', 'Schmidto'], ['Relaxo', 'Arbeito', 'Hustleo'], ['Raupi', 'Kokooni', 'Schmetterlingi']]\n",
    "            ang = int(self.ang*random.random()*2)\n",
    "            vert = int(self.vert*random.random()*2)\n",
    "            leb = int(self.lebenges*random.random()*1.5) \n",
    "            zuf_name = random.randint(0,3)\n",
    "            pokran = pokemon_genau(ang, vert, leb, namen[zuf_name][0],namen[zuf_name][1], namen[zuf_name][2])\n",
    "            print('Ein wildes ', pokran.nam, ' taucht auf!!!')\n",
    "            print('Ang.: ', pokran.ang, ' Vert.: ',pokran.vert, ' Leben: ', pokran.leb)\n",
    "            print()\n",
    "            self.kampf(pokran)\n",
    "            "
   ]
  },
  {
   "cell_type": "code",
   "execution_count": 9,
   "metadata": {},
   "outputs": [],
   "source": [
    "trainer.neues_pok(25,50,120,'Feu','Feufeu','Feufeufeu')\n",
    "trainer.neues_pok(10,15,200,'Bisasam', 'Bisaknosp', 'Bisaflor')"
   ]
  },
  {
   "cell_type": "code",
   "execution_count": 10,
   "metadata": {},
   "outputs": [
    {
     "name": "stdout",
     "output_type": "stream",
     "text": [
      "Möglichkeiten: dict_keys(['Poks anschauen', 'Hohes Gras', 'Status', 'Inventar', 'Heile Pok', 'Shop'])\n"
     ]
    },
    {
     "name": "stdin",
     "output_type": "stream",
     "text": [
      "Was willst du tun? Shop\n"
     ]
    },
    {
     "name": "stdout",
     "output_type": "stream",
     "text": [
      "\n",
      "Hallo, du brauchen, ich haben:\n",
      "Tränke: 3 für 300 Gold pro Stück.\n",
      "Pokbälle: 2 für 50 Gold pro Stück.\n"
     ]
    },
    {
     "name": "stdin",
     "output_type": "stream",
     "text": [
      "Was willst du kaufen? Trank\n",
      "Wie viel Stück willst du kaufen? 2\n"
     ]
    },
    {
     "name": "stdout",
     "output_type": "stream",
     "text": [
      "Zu wenig Geld!\n",
      "\n",
      "Möglichkeiten: dict_keys(['Poks anschauen', 'Hohes Gras', 'Status', 'Inventar', 'Heile Pok', 'Shop'])\n"
     ]
    },
    {
     "name": "stdin",
     "output_type": "stream",
     "text": [
      "Was willst du tun? Hohes GGras\n"
     ]
    },
    {
     "name": "stdout",
     "output_type": "stream",
     "text": [
      "\n",
      "Das ist keine Option, achte auf Groß/Klein, Abstände usw.!\n",
      "\n",
      "Möglichkeiten: dict_keys(['Poks anschauen', 'Hohes Gras', 'Status', 'Inventar', 'Heile Pok', 'Shop'])\n"
     ]
    },
    {
     "name": "stdin",
     "output_type": "stream",
     "text": [
      "Was willst du tun? Hohes Gras\n"
     ]
    },
    {
     "name": "stdout",
     "output_type": "stream",
     "text": [
      "\n",
      "In deinem Poksack befinden sich:\n",
      "1 . Feu\n",
      "2 . Bisasam\n",
      "3 . Feu\n",
      "4 . Bisasam\n",
      "\n"
     ]
    },
    {
     "name": "stdin",
     "output_type": "stream",
     "text": [
      "Welches Pok willst du kämpfen lassen? (Nummer) 2\n"
     ]
    },
    {
     "name": "stdout",
     "output_type": "stream",
     "text": [
      "Ein wildes  Ditto  taucht auf!!!\n",
      "Ang.:  18  Vert.:  25  Leben:  154\n",
      "\n",
      "Ditto  hat  150  Lebenspunkte (- 4 )\n",
      "Bisasam  hat  188  Lebenspunkte (- 12 )\n",
      "\n",
      "Ditto  hat  146  Lebenspunkte (- 4 )\n",
      "Bisasam  hat  176  Lebenspunkte (- 12 )\n",
      "\n",
      "Ditto  hat  126  Lebenspunkte (- 4 )\n",
      "Bisasam  hat  164  Lebenspunkte (- 12 )\n",
      "\n",
      "Ditto  hat  106  Lebenspunkte (- 4 )\n",
      "Bisasam  hat  152  Lebenspunkte (- 12 )\n",
      "\n",
      "Ditto  hat  102  Lebenspunkte (- 4 )\n",
      "Bisasam  hat  140  Lebenspunkte (- 12 )\n",
      "\n",
      "Ditto  hat  98  Lebenspunkte (- 4 )\n",
      "Bisasam  hat  128  Lebenspunkte (- 12 )\n",
      "\n",
      "Ditto  hat  94  Lebenspunkte (- 4 )\n",
      "Bisasam  hat  116  Lebenspunkte (- 12 )\n",
      "\n",
      "Ditto  hat  90  Lebenspunkte (- 4 )\n",
      "Bisasam  hat  104  Lebenspunkte (- 12 )\n",
      "\n",
      "Ditto  hat  86  Lebenspunkte (- 4 )\n",
      "Bisasam  hat  92  Lebenspunkte (- 12 )\n",
      "\n",
      "Ditto  hat  82  Lebenspunkte (- 4 )\n",
      "Bisasam  hat  80  Lebenspunkte (- 12 )\n",
      "\n",
      "Ditto  hat  62  Lebenspunkte (- 4 )\n",
      "Bisasam  hat  68  Lebenspunkte (- 12 )\n",
      "\n",
      "Ditto  hat  58  Lebenspunkte (- 4 )\n",
      "Bisasam  hat  56  Lebenspunkte (- 12 )\n",
      "\n",
      "Ditto  hat  54  Lebenspunkte (- 4 )\n",
      "Bisasam  hat  44  Lebenspunkte (- 12 )\n",
      "\n",
      "Ditto  hat  50  Lebenspunkte (- 4 )\n",
      "Bisasam  hat  32  Lebenspunkte (- 12 )\n",
      "\n",
      "Ditto  hat  46  Lebenspunkte (- 4 )\n",
      "Bisasam  hat  20  Lebenspunkte (- 12 )\n",
      "\n",
      "Ditto  hat  42  Lebenspunkte (- 4 )\n",
      "Bisasam  hat  8  Lebenspunkte (- 12 )\n",
      "\n",
      "Ditto  hat  38  Lebenspunkte (- 4 )\n",
      "Bisasam  hat  -4  Lebenspunkte (- 12 )\n",
      "\n"
     ]
    },
    {
     "name": "stdin",
     "output_type": "stream",
     "text": [
      "Bisasamhat keine Lebenspunkte mehr, willst du weiter kämpfen? (Ja, Nein) Ja\n",
      "Welches Pok willst du kämpfen lassen? (Nummer) 1\n"
     ]
    },
    {
     "name": "stdout",
     "output_type": "stream",
     "text": [
      "Ditto  hat  28  Lebenspunkte (- 10 )\n",
      "Feu  hat  116  Lebenspunkte (- 3 )\n",
      "\n",
      "Ditto  hat  18  Lebenspunkte (- 10 )\n",
      "Feu  hat  112  Lebenspunkte (- 3 )\n",
      "\n",
      "Ditto  hat  8  Lebenspunkte (- 10 )\n",
      "Feu  hat  108  Lebenspunkte (- 3 )\n",
      "\n",
      "Ditto  hat  -2  Lebenspunkte (- 10 )\n",
      "Feu  hat  104  Lebenspunkte (- 3 )\n",
      "\n",
      "Du hast 120 Goldstücke erhalten\n"
     ]
    },
    {
     "name": "stdin",
     "output_type": "stream",
     "text": [
      "Dittoscheint sich zu unterwerfen, willst du veruchen es zu fangen? (Ja, Nein) Ja\n"
     ]
    },
    {
     "name": "stdout",
     "output_type": "stream",
     "text": [
      "Keine Pokbälle mehr!\n",
      "\n",
      "Feu hat jetzt noch  104  Leben\n",
      "Ditto ist geflohen...\n",
      "\n",
      "Bisasam hat jetzt noch  0  Leben\n",
      "Möglichkeiten: dict_keys(['Poks anschauen', 'Hohes Gras', 'Status', 'Inventar', 'Heile Pok', 'Shop'])\n"
     ]
    },
    {
     "name": "stdin",
     "output_type": "stream",
     "text": [
      "Was willst du tun? Hohes Gras\n"
     ]
    },
    {
     "name": "stdout",
     "output_type": "stream",
     "text": [
      "\n",
      "In deinem Poksack befinden sich:\n",
      "1 . Feu\n",
      "2 . Bisasam\n",
      "3 . Feu\n",
      "4 . Bisasam\n",
      "\n"
     ]
    },
    {
     "name": "stdin",
     "output_type": "stream",
     "text": [
      "Welches Pok willst du kämpfen lassen? (Nummer) 1\n"
     ]
    },
    {
     "name": "stdout",
     "output_type": "stream",
     "text": [
      "Ein wildes  Ditto  taucht auf!!!\n",
      "Ang.:  13  Vert.:  16  Leben:  23\n",
      "\n",
      "Ditto  hat  7  Lebenspunkte (- 15 )\n",
      "Feu  hat  101  Lebenspunkte (- 2 )\n",
      "\n",
      "Ditto  hat  -8  Lebenspunkte (- 15 )\n",
      "Feu  hat  98  Lebenspunkte (- 2 )\n",
      "\n",
      "Du hast 40 Goldstücke erhalten\n",
      "Ditto ist geflohen...\n",
      "\n",
      "Feu hat jetzt noch  98  Leben\n",
      "Möglichkeiten: dict_keys(['Poks anschauen', 'Hohes Gras', 'Status', 'Inventar', 'Heile Pok', 'Shop'])\n"
     ]
    },
    {
     "name": "stdin",
     "output_type": "stream",
     "text": [
      "Was willst du tun? Hohes Gras\n"
     ]
    },
    {
     "name": "stdout",
     "output_type": "stream",
     "text": [
      "\n",
      "In deinem Poksack befinden sich:\n",
      "1 . Feu\n",
      "2 . Bisasam\n",
      "3 . Feu\n",
      "4 . Bisasam\n",
      "\n"
     ]
    },
    {
     "name": "stdin",
     "output_type": "stream",
     "text": [
      "Welches Pok willst du kämpfen lassen? (Nummer) 4\n"
     ]
    },
    {
     "name": "stdout",
     "output_type": "stream",
     "text": [
      "Ein wildes  Raupi  taucht auf!!!\n",
      "Ang.:  4  Vert.:  19  Leben:  224\n",
      "\n",
      "Raupi  hat  218  Lebenspunkte (- 5 )\n",
      "Bisasam  hat  197  Lebenspunkte (- 2 )\n",
      "\n",
      "Raupi  hat  212  Lebenspunkte (- 5 )\n",
      "Bisasam  hat  194  Lebenspunkte (- 2 )\n",
      "\n",
      "Raupi  hat  206  Lebenspunkte (- 5 )\n",
      "Bisasam  hat  191  Lebenspunkte (- 2 )\n",
      "\n",
      "Raupi  hat  200  Lebenspunkte (- 5 )\n",
      "Bisasam  hat  188  Lebenspunkte (- 2 )\n",
      "\n",
      "Raupi  hat  194  Lebenspunkte (- 5 )\n",
      "Bisasam  hat  185  Lebenspunkte (- 2 )\n",
      "\n",
      "Raupi  hat  188  Lebenspunkte (- 5 )\n",
      "Bisasam  hat  182  Lebenspunkte (- 2 )\n",
      "\n",
      "Raupi  hat  182  Lebenspunkte (- 5 )\n",
      "Bisasam  hat  179  Lebenspunkte (- 2 )\n",
      "\n",
      "Raupi  hat  176  Lebenspunkte (- 5 )\n",
      "Bisasam  hat  176  Lebenspunkte (- 2 )\n",
      "\n",
      "Raupi  hat  170  Lebenspunkte (- 5 )\n",
      "Bisasam  hat  173  Lebenspunkte (- 2 )\n",
      "\n",
      "Raupi  hat  164  Lebenspunkte (- 5 )\n",
      "Bisasam  hat  170  Lebenspunkte (- 2 )\n",
      "\n",
      "Raupi  hat  158  Lebenspunkte (- 5 )\n",
      "Bisasam  hat  167  Lebenspunkte (- 2 )\n",
      "\n",
      "Raupi  hat  152  Lebenspunkte (- 5 )\n",
      "Bisasam  hat  164  Lebenspunkte (- 2 )\n",
      "\n",
      "Raupi  hat  146  Lebenspunkte (- 5 )\n",
      "Bisasam  hat  161  Lebenspunkte (- 2 )\n",
      "\n",
      "Raupi  hat  140  Lebenspunkte (- 5 )\n",
      "Bisasam  hat  158  Lebenspunkte (- 2 )\n",
      "\n",
      "Raupi  hat  134  Lebenspunkte (- 5 )\n",
      "Bisasam  hat  155  Lebenspunkte (- 2 )\n",
      "\n",
      "Raupi  hat  128  Lebenspunkte (- 5 )\n",
      "Bisasam  hat  152  Lebenspunkte (- 2 )\n",
      "\n",
      "Raupi  hat  122  Lebenspunkte (- 5 )\n",
      "Bisasam  hat  149  Lebenspunkte (- 2 )\n",
      "\n",
      "Raupi  hat  116  Lebenspunkte (- 5 )\n",
      "Bisasam  hat  146  Lebenspunkte (- 2 )\n",
      "\n",
      "Raupi  hat  110  Lebenspunkte (- 5 )\n",
      "Bisasam  hat  143  Lebenspunkte (- 2 )\n",
      "\n",
      "Raupi  hat  104  Lebenspunkte (- 5 )\n",
      "Bisasam  hat  140  Lebenspunkte (- 2 )\n",
      "\n",
      "Raupi  hat  77  Lebenspunkte (- 5 )\n",
      "Bisasam  hat  137  Lebenspunkte (- 2 )\n",
      "\n",
      "Raupi  hat  50  Lebenspunkte (- 5 )\n",
      "Bisasam  hat  123  Lebenspunkte (- 2 )\n",
      "\n",
      "Raupi  hat  44  Lebenspunkte (- 5 )\n",
      "Bisasam  hat  120  Lebenspunkte (- 2 )\n",
      "\n",
      "Raupi  hat  38  Lebenspunkte (- 5 )\n",
      "Bisasam  hat  117  Lebenspunkte (- 2 )\n",
      "\n",
      "Raupi  hat  32  Lebenspunkte (- 5 )\n",
      "Bisasam  hat  114  Lebenspunkte (- 2 )\n",
      "\n",
      "Raupi  hat  26  Lebenspunkte (- 5 )\n",
      "Bisasam  hat  111  Lebenspunkte (- 2 )\n",
      "\n",
      "Raupi  hat  20  Lebenspunkte (- 5 )\n",
      "Bisasam  hat  108  Lebenspunkte (- 2 )\n",
      "\n",
      "Raupi  hat  14  Lebenspunkte (- 5 )\n",
      "Bisasam  hat  105  Lebenspunkte (- 2 )\n",
      "\n",
      "Raupi  hat  8  Lebenspunkte (- 5 )\n",
      "Bisasam  hat  102  Lebenspunkte (- 2 )\n",
      "\n",
      "Raupi  hat  2  Lebenspunkte (- 5 )\n",
      "Bisasam  hat  99  Lebenspunkte (- 2 )\n",
      "\n",
      "Raupi  hat  -3  Lebenspunkte (- 5 )\n",
      "Bisasam  hat  96  Lebenspunkte (- 2 )\n",
      "\n",
      "Du hast 135 Goldstücke erhalten\n",
      "Raupi ist geflohen...\n",
      "\n",
      "Bisasam hat jetzt noch  96  Leben\n",
      "Möglichkeiten: dict_keys(['Poks anschauen', 'Hohes Gras', 'Status', 'Inventar', 'Heile Pok', 'Shop'])\n"
     ]
    },
    {
     "name": "stdin",
     "output_type": "stream",
     "text": [
      "Was willst du tun? Hohes Gras\n"
     ]
    },
    {
     "name": "stdout",
     "output_type": "stream",
     "text": [
      "\n",
      "In deinem Poksack befinden sich:\n",
      "1 . Feu\n",
      "2 . Bisasam\n",
      "3 . Feu\n",
      "4 . Bisasam\n",
      "\n"
     ]
    },
    {
     "name": "stdin",
     "output_type": "stream",
     "text": [
      "Welches Pok willst du kämpfen lassen? (Nummer) 4\n"
     ]
    },
    {
     "name": "stdout",
     "output_type": "stream",
     "text": [
      "Ein wildes  Ditto  taucht auf!!!\n",
      "Ang.:  9  Vert.:  22  Leben:  35\n",
      "\n",
      "Ditto  hat  30  Lebenspunkte (- 4 )\n",
      "Bisasam  hat  90  Lebenspunkte (- 6 )\n",
      "\n",
      "Ditto  hat  25  Lebenspunkte (- 4 )\n",
      "Bisasam  hat  84  Lebenspunkte (- 6 )\n",
      "\n",
      "Ditto  hat  20  Lebenspunkte (- 4 )\n",
      "Bisasam  hat  78  Lebenspunkte (- 6 )\n",
      "\n",
      "Ditto  hat  15  Lebenspunkte (- 4 )\n",
      "Bisasam  hat  72  Lebenspunkte (- 6 )\n",
      "\n",
      "Ditto  hat  10  Lebenspunkte (- 4 )\n",
      "Bisasam  hat  66  Lebenspunkte (- 6 )\n",
      "\n",
      "Ditto  hat  5  Lebenspunkte (- 4 )\n",
      "Bisasam  hat  60  Lebenspunkte (- 6 )\n",
      "\n",
      "Ditto  hat  0  Lebenspunkte (- 4 )\n",
      "Bisasam  hat  54  Lebenspunkte (- 6 )\n",
      "\n",
      "Du hast 48 Goldstücke erhalten\n"
     ]
    },
    {
     "name": "stdin",
     "output_type": "stream",
     "text": [
      "Dittoscheint sich zu unterwerfen, willst du veruchen es zu fangen? (Ja, Nein) Ja\n"
     ]
    },
    {
     "name": "stdout",
     "output_type": "stream",
     "text": [
      "Keine Pokbälle mehr!\n",
      "\n",
      "Bisasam hat jetzt noch  54  Leben\n",
      "Möglichkeiten: dict_keys(['Poks anschauen', 'Hohes Gras', 'Status', 'Inventar', 'Heile Pok', 'Shop'])\n"
     ]
    },
    {
     "name": "stdin",
     "output_type": "stream",
     "text": [
      "Was willst du tun? Inventar\n"
     ]
    },
    {
     "name": "stdout",
     "output_type": "stream",
     "text": [
      "\n",
      "In deinem Inventar befinden sich:\n",
      "443 Goldstücke\n",
      "0 Tränke\n",
      "0 Pokbälle\n",
      "Möglichkeiten: dict_keys(['Poks anschauen', 'Hohes Gras', 'Status', 'Inventar', 'Heile Pok', 'Shop'])\n"
     ]
    },
    {
     "name": "stdin",
     "output_type": "stream",
     "text": [
      "Was willst du tun? Hohes Gras\n"
     ]
    },
    {
     "name": "stdout",
     "output_type": "stream",
     "text": [
      "\n",
      "In deinem Poksack befinden sich:\n",
      "1 . Feu\n",
      "2 . Bisasam\n",
      "3 . Feu\n",
      "4 . Bisasam\n",
      "\n"
     ]
    },
    {
     "name": "stdin",
     "output_type": "stream",
     "text": [
      "Welches Pok willst du kämpfen lassen? (Nummer) 1\n"
     ]
    },
    {
     "name": "stdout",
     "output_type": "stream",
     "text": [
      "Ein wildes  Raupi  taucht auf!!!\n",
      "Ang.:  22  Vert.:  23  Leben:  172\n",
      "\n",
      "Raupi  hat  161  Lebenspunkte (- 10 )\n",
      "Feu  hat  93  Lebenspunkte (- 4 )\n",
      "\n",
      "Raupi  hat  150  Lebenspunkte (- 10 )\n",
      "Feu  hat  88  Lebenspunkte (- 4 )\n",
      "\n",
      "Raupi  hat  139  Lebenspunkte (- 10 )\n",
      "Feu  hat  83  Lebenspunkte (- 4 )\n",
      "\n",
      "Raupi  hat  128  Lebenspunkte (- 10 )\n",
      "Feu  hat  78  Lebenspunkte (- 4 )\n",
      "\n",
      "Raupi  hat  117  Lebenspunkte (- 10 )\n",
      "Feu  hat  73  Lebenspunkte (- 4 )\n",
      "\n",
      "Raupi  hat  106  Lebenspunkte (- 10 )\n",
      "Feu  hat  68  Lebenspunkte (- 4 )\n",
      "\n",
      "Raupi  hat  95  Lebenspunkte (- 10 )\n",
      "Feu  hat  63  Lebenspunkte (- 4 )\n",
      "\n",
      "Raupi  hat  84  Lebenspunkte (- 10 )\n",
      "Feu  hat  41  Lebenspunkte (- 4 )\n",
      "\n",
      "Raupi  hat  73  Lebenspunkte (- 10 )\n",
      "Feu  hat  36  Lebenspunkte (- 4 )\n",
      "\n",
      "Raupi  hat  62  Lebenspunkte (- 10 )\n",
      "Feu  hat  31  Lebenspunkte (- 4 )\n",
      "\n",
      "Raupi  hat  51  Lebenspunkte (- 10 )\n",
      "Feu  hat  26  Lebenspunkte (- 4 )\n",
      "\n",
      "Raupi  hat  40  Lebenspunkte (- 10 )\n",
      "Feu  hat  21  Lebenspunkte (- 4 )\n",
      "\n",
      "Raupi  hat  29  Lebenspunkte (- 10 )\n",
      "Feu  hat  16  Lebenspunkte (- 4 )\n",
      "\n",
      "Raupi  hat  18  Lebenspunkte (- 10 )\n",
      "Feu  hat  11  Lebenspunkte (- 4 )\n",
      "\n",
      "Raupi  hat  7  Lebenspunkte (- 10 )\n",
      "Feu  hat  6  Lebenspunkte (- 4 )\n",
      "\n",
      "Raupi  hat  -3  Lebenspunkte (- 10 )\n",
      "Feu  hat  1  Lebenspunkte (- 4 )\n",
      "\n",
      "Du hast 131 Goldstücke erhalten\n",
      "Raupi ist geflohen...\n",
      "\n",
      "Feu hat jetzt noch  1  Leben\n",
      "Möglichkeiten: dict_keys(['Poks anschauen', 'Hohes Gras', 'Status', 'Inventar', 'Heile Pok', 'Shop'])\n"
     ]
    },
    {
     "name": "stdin",
     "output_type": "stream",
     "text": [
      "Was willst du tun? Hohes Gras\n"
     ]
    },
    {
     "name": "stdout",
     "output_type": "stream",
     "text": [
      "\n",
      "In deinem Poksack befinden sich:\n",
      "1 . Feu\n",
      "2 . Bisasam\n",
      "3 . Feu\n",
      "4 . Bisasam\n",
      "\n"
     ]
    },
    {
     "name": "stdin",
     "output_type": "stream",
     "text": [
      "Welches Pok willst du kämpfen lassen? (Nummer) 3\n"
     ]
    },
    {
     "name": "stdout",
     "output_type": "stream",
     "text": [
      "Ein wildes  Taubsi  taucht auf!!!\n",
      "Ang.:  22  Vert.:  90  Leben:  15\n",
      "\n",
      "Taubsi  hat  12  Lebenspunkte (- 2 )\n",
      "Feu  hat  115  Lebenspunkte (- 4 )\n",
      "\n",
      "Taubsi  hat  9  Lebenspunkte (- 2 )\n",
      "Feu  hat  110  Lebenspunkte (- 4 )\n",
      "\n",
      "Taubsi  hat  -4  Lebenspunkte (- 2 )\n",
      "Feu  hat  105  Lebenspunkte (- 4 )\n",
      "\n",
      "Du hast 119 Goldstücke erhalten\n",
      "Taubsi ist geflohen...\n",
      "\n",
      "Feu hat jetzt noch  105  Leben\n",
      "Möglichkeiten: dict_keys(['Poks anschauen', 'Hohes Gras', 'Status', 'Inventar', 'Heile Pok', 'Shop'])\n"
     ]
    },
    {
     "name": "stdin",
     "output_type": "stream",
     "text": [
      "Was willst du tun? Inventar\n"
     ]
    },
    {
     "name": "stdout",
     "output_type": "stream",
     "text": [
      "\n",
      "In deinem Inventar befinden sich:\n",
      "693 Goldstücke\n",
      "0 Tränke\n",
      "0 Pokbälle\n",
      "Möglichkeiten: dict_keys(['Poks anschauen', 'Hohes Gras', 'Status', 'Inventar', 'Heile Pok', 'Shop'])\n"
     ]
    },
    {
     "name": "stdin",
     "output_type": "stream",
     "text": [
      "Was willst du tun? Shop\n"
     ]
    },
    {
     "name": "stdout",
     "output_type": "stream",
     "text": [
      "\n",
      "Hallo, du brauchen, ich haben:\n",
      "Tränke: 2 für 300 Gold pro Stück.\n",
      "Pokbälle: 3 für 50 Gold pro Stück.\n"
     ]
    },
    {
     "name": "stdin",
     "output_type": "stream",
     "text": [
      "Was willst du kaufen? Trank\n",
      "Wie viel Stück willst du kaufen? 2\n"
     ]
    },
    {
     "name": "stdout",
     "output_type": "stream",
     "text": [
      "Du hast 2 mal Trank um je 300 Goldstücke gekauft.\n",
      "Tränke: 2\n",
      "\n",
      "Möglichkeiten: dict_keys(['Poks anschauen', 'Hohes Gras', 'Status', 'Inventar', 'Heile Pok', 'Shop'])\n"
     ]
    },
    {
     "name": "stdin",
     "output_type": "stream",
     "text": [
      "Was willst du tun? Inventar\n"
     ]
    },
    {
     "name": "stdout",
     "output_type": "stream",
     "text": [
      "\n",
      "In deinem Inventar befinden sich:\n",
      "93 Goldstücke\n",
      "2 Tränke\n",
      "0 Pokbälle\n",
      "Möglichkeiten: dict_keys(['Poks anschauen', 'Hohes Gras', 'Status', 'Inventar', 'Heile Pok', 'Shop'])\n"
     ]
    },
    {
     "name": "stdin",
     "output_type": "stream",
     "text": [
      "Was willst du tun? Shop\n"
     ]
    },
    {
     "name": "stdout",
     "output_type": "stream",
     "text": [
      "\n",
      "Hallo, du brauchen, ich haben:\n",
      "Tränke: 1 für 300 Gold pro Stück.\n",
      "Pokbälle: 1 für 50 Gold pro Stück.\n"
     ]
    },
    {
     "name": "stdin",
     "output_type": "stream",
     "text": [
      "Was willst du kaufen? Pokball\n",
      "Wie viel Stück willst du kaufen? 1\n"
     ]
    },
    {
     "ename": "TypeError",
     "evalue": "kaufe_pok_ball() takes 1 positional argument but 2 were given",
     "output_type": "error",
     "traceback": [
      "\u001b[1;31m---------------------------------------------------------------------------\u001b[0m",
      "\u001b[1;31mTypeError\u001b[0m                                 Traceback (most recent call last)",
      "\u001b[1;32m<ipython-input-10-7180b25a455d>\u001b[0m in \u001b[0;36m<module>\u001b[1;34m\u001b[0m\n\u001b[0;32m     15\u001b[0m     \u001b[1;32mtry\u001b[0m\u001b[1;33m:\u001b[0m\u001b[1;33m\u001b[0m\u001b[1;33m\u001b[0m\u001b[0m\n\u001b[0;32m     16\u001b[0m         \u001b[1;32mif\u001b[0m \u001b[0minp\u001b[0m \u001b[1;32min\u001b[0m \u001b[0mCommands\u001b[0m\u001b[1;33m:\u001b[0m\u001b[1;33m\u001b[0m\u001b[1;33m\u001b[0m\u001b[0m\n\u001b[1;32m---> 17\u001b[1;33m             \u001b[0mCommands\u001b[0m\u001b[1;33m[\u001b[0m\u001b[0minp\u001b[0m\u001b[1;33m]\u001b[0m\u001b[1;33m(\u001b[0m\u001b[1;33m)\u001b[0m\u001b[1;33m\u001b[0m\u001b[1;33m\u001b[0m\u001b[0m\n\u001b[0m\u001b[0;32m     18\u001b[0m         \u001b[1;32melse\u001b[0m\u001b[1;33m:\u001b[0m\u001b[1;33m\u001b[0m\u001b[1;33m\u001b[0m\u001b[0m\n\u001b[0;32m     19\u001b[0m             \u001b[0mprint\u001b[0m\u001b[1;33m(\u001b[0m\u001b[1;34m'Das ist keine Option, achte auf Groß/Klein, Abstände usw.!'\u001b[0m\u001b[1;33m)\u001b[0m\u001b[1;33m\u001b[0m\u001b[1;33m\u001b[0m\u001b[0m\n",
      "\u001b[1;32m<ipython-input-8-df9451e4c0ca>\u001b[0m in \u001b[0;36mshopping\u001b[1;34m(self)\u001b[0m\n\u001b[0;32m     18\u001b[0m         \u001b[1;32mif\u001b[0m \u001b[0mkauf\u001b[0m \u001b[1;32min\u001b[0m \u001b[0mself\u001b[0m\u001b[1;33m.\u001b[0m\u001b[0mmöglichkeiten\u001b[0m\u001b[1;33m:\u001b[0m\u001b[1;33m\u001b[0m\u001b[1;33m\u001b[0m\u001b[0m\n\u001b[0;32m     19\u001b[0m \u001b[1;33m\u001b[0m\u001b[0m\n\u001b[1;32m---> 20\u001b[1;33m                 \u001b[0mself\u001b[0m\u001b[1;33m.\u001b[0m\u001b[0mmöglichkeiten\u001b[0m\u001b[1;33m[\u001b[0m\u001b[0mkauf\u001b[0m\u001b[1;33m]\u001b[0m\u001b[1;33m(\u001b[0m\u001b[0mint\u001b[0m\u001b[1;33m(\u001b[0m\u001b[0minput\u001b[0m\u001b[1;33m(\u001b[0m\u001b[1;34m'Wie viel Stück willst du kaufen?'\u001b[0m\u001b[1;33m)\u001b[0m\u001b[1;33m)\u001b[0m\u001b[1;33m)\u001b[0m\u001b[1;33m\u001b[0m\u001b[1;33m\u001b[0m\u001b[0m\n\u001b[0m\u001b[0;32m     21\u001b[0m \u001b[1;33m\u001b[0m\u001b[0m\n\u001b[0;32m     22\u001b[0m \u001b[0mshop1\u001b[0m \u001b[1;33m=\u001b[0m \u001b[0mshop\u001b[0m\u001b[1;33m(\u001b[0m\u001b[1;33m)\u001b[0m\u001b[1;33m\u001b[0m\u001b[1;33m\u001b[0m\u001b[0m\n",
      "\u001b[1;31mTypeError\u001b[0m: kaufe_pok_ball() takes 1 positional argument but 2 were given"
     ]
    }
   ],
   "source": [
    "Commands = {\n",
    "    'Poks anschauen' : trainer.sack_anschauen,\n",
    "    'Hohes Gras' : trainer.hohes_gras_funkt,\n",
    "    'Status' : trainer.status_funkt,\n",
    "    'Inventar' : trainer.inventar,\n",
    "    'Heile Pok' : trainer.heile_pok,\n",
    "    'Shop' : shop1.shopping,\n",
    "}\n",
    "inp = ''\n",
    "while inp != 'e':\n",
    "    print('Möglichkeiten:' ,Commands.keys())\n",
    "    inp = input('Was willst du tun?')\n",
    "    print()\n",
    "    \n",
    "    try: \n",
    "        if inp in Commands:\n",
    "            Commands[inp]()\n",
    "        else:\n",
    "            print('Das ist keine Option, achte auf Groß/Klein, Abstände usw.!')\n",
    "            print()\n",
    "    except IndexError:\n",
    "        print('Achtung, es können nur die Nummern der Pokemon eingegeben werden!')\n",
    "        print()\n",
    "print('SPIEL BEENDET')"
   ]
  },
  {
   "cell_type": "code",
   "execution_count": null,
   "metadata": {},
   "outputs": [],
   "source": []
  }
 ],
 "metadata": {
  "kernelspec": {
   "display_name": "Python 3",
   "language": "python",
   "name": "python3"
  },
  "language_info": {
   "codemirror_mode": {
    "name": "ipython",
    "version": 3
   },
   "file_extension": ".py",
   "mimetype": "text/x-python",
   "name": "python",
   "nbconvert_exporter": "python",
   "pygments_lexer": "ipython3",
   "version": "3.8.3"
  }
 },
 "nbformat": 4,
 "nbformat_minor": 4
}
