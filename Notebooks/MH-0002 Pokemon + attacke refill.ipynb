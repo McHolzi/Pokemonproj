{
 "cells": [
  {
   "cell_type": "code",
   "execution_count": 46,
   "metadata": {},
   "outputs": [],
   "source": [
    "import random"
   ]
  },
  {
   "cell_type": "code",
   "execution_count": 47,
   "metadata": {},
   "outputs": [],
   "source": [
    "class poketrainer():\n",
    "    \n",
    "    def __init__(self):\n",
    "        self.inventar = {\n",
    "            'Gold' : [1000],\n",
    "            'Trank' : [0,300],\n",
    "            'Pokball':[0,50],\n",
    "            'Attacke auffüllen':[0,100]\n",
    "        }\n",
    "        self.pok_sack=[]\n",
    "        \n",
    "    def kaufen(self,sache , anzahl):\n",
    "        \n",
    "        if self.inventar['Gold'][0]>= self.inventar[sache][1]*anzahl:\n",
    "            self.inventar['Gold'][0]-=self.inventar[sache][1]*anzahl\n",
    "            self.inventar[sache][0]+=1*anzahl\n",
    "            print('Du hast', anzahl, 'mal',sache, 'um je ',self.inventar[sache][1],'Goldstücke gekauft.')\n",
    "            print('Du hast jetzt', self.inventar[sache][0], sache)\n",
    "            print()\n",
    "        else:\n",
    "            print('Zu wenig Geld!')\n",
    "            print()\n",
    "       \n",
    "    \n",
    "    def heile_pok(self):\n",
    "        if self.inventar['Trank'][0] >= 1:\n",
    "            trainer.sack_anschauen()\n",
    "            welchespok = input('Welches Pok willst du heilen lassen? (Nummer)')\n",
    "            print()\n",
    "            trainer.pok_sack[int(welchespok)-1].leb = trainer.pok_sack[int(welchespok)-1].lebenges\n",
    "            self.inventar['Trank'][0] -=1\n",
    "            trainer.pok_sack[int(welchespok)-1].tot = False\n",
    "            trainer.pok_sack[int(welchespok)-1].status()\n",
    "        else:\n",
    "            print('Du hast keine Tränke!')\n",
    "    \n",
    "    def attacke_auffüllung(self):\n",
    "        if self.inventar['Attacke auffüllen'][0]>=1:\n",
    "            trainer.sack_anschauen()\n",
    "            welchespok = input('Welches Pok willst du auffüllen lassen? (Nummer)')\n",
    "            print()\n",
    "            for key in  trainer.pok_sack[int(welchespok)-1].angriffe:\n",
    "                trainer.pok_sack[int(welchespok)-1].angriffe[key][0] = trainer.pok_sack[int(welchespok)-1].angriffe[key][2]\n",
    "        else: \n",
    "            print('Du hast keine Auffüllungen!')\n",
    "            \n",
    "    def neues_pok(self,ang,vert,leb,name,entw1,entw2):\n",
    "        self.pok_sack.append(pokemon_genau(ang, vert, leb, name, entw1,entw2))\n",
    "    \n",
    "    def sack_anschauen(self):\n",
    "        print('In deinem Poksack befinden sich:') \n",
    "        for i in range(0,len(self.pok_sack)):\n",
    "            print(i+1,'.',self.pok_sack[i].nam)\n",
    "        print()\n",
    "    def inventar_anschauen(self):\n",
    "        print('In deinem Inventar befinden sich:')\n",
    "        for key in self.inventar:\n",
    "            print('Du hast', self.inventar[key][0], key)\n",
    "            \n",
    "    def hohes_gras_funkt(self):\n",
    "        trainer.sack_anschauen()\n",
    "        welchespok = input('Welches Pok willst du kämpfen lassen? (Nummer)')\n",
    "        trainer.pok_sack[int(welchespok)-1].hohes_gras()\n",
    "        \n",
    "    def status_funkt(self):\n",
    "        trainer.sack_anschauen()\n",
    "        welchespok = input('Von welchem Pok willst du den Status wissen? (Nummer)')\n",
    "        trainer.pok_sack[int(welchespok)-1].status()\n",
    "\n",
    "        \n",
    "\n",
    "trainer = poketrainer()"
   ]
  },
  {
   "cell_type": "code",
   "execution_count": 48,
   "metadata": {},
   "outputs": [],
   "source": [
    "class shop():\n",
    " \n",
    "    def __init__(self):\n",
    "          self.items = {\n",
    "            'Trank' : [0,300],\n",
    "            'Pokball' : [0,50],\n",
    "            'Attacke auffüllen' : [0,100] \n",
    "        }\n",
    "        \n",
    "    def shopping(self):\n",
    "        for key in self.items:\n",
    "            self.items[key][0] = random.randint(1,5)\n",
    "        print('Hallo, du brauchen, ich haben:')\n",
    "        for key in self.items:\n",
    "            print(key,'  Anzahl:',self.items[key][0],'zu je',self.items[key][1],'Gold')\n",
    "        kauf = input('Was willst du kaufen?')\n",
    "        stück = int(input('Wie viel Stück willst du kaufen?'))\n",
    "        print()\n",
    "        if stück<= self.items[kauf][0]:\n",
    "            trainer.kaufen(kauf,stück)\n",
    "        else:\n",
    "            print('So viel haben wir nicht auf Lager..., ich geb dir', self.items[kauf][0])\n",
    "            stück = self.items[kauf][0]\n",
    "            trainer.kaufen(kauf,stück)\n",
    "            \n",
    "shop1 = shop()    "
   ]
  },
  {
   "cell_type": "code",
   "execution_count": 49,
   "metadata": {},
   "outputs": [],
   "source": [
    "class pokemon():\n",
    "    \n",
    "    def __init__(self):\n",
    "        self.exp = 0\n",
    "        self.level = 1\n",
    "        self.tot = False "
   ]
  },
  {
   "cell_type": "code",
   "execution_count": 50,
   "metadata": {},
   "outputs": [],
   "source": [
    "class pokemon_genau(pokemon):\n",
    "    \n",
    "    def __init__(self, angriff, verteidigung, leben, name, entw1, entw2):\n",
    "        pokemon.__init__(self)\n",
    "        self.ang = angriff\n",
    "        self.vert = verteidigung\n",
    "        self.leb = leben\n",
    "        self.lebenges = leben\n",
    "        self.nam = name\n",
    "        self.entw1 = entw1\n",
    "        self.entw2 = entw2\n",
    "        self.expgain = int((angriff + verteidigung + leben*0.3)/3)\n",
    "        self.krit = random.randint(10,40)\n",
    "        self.exp_needed = 100\n",
    "        self.angriffe={\n",
    "            'Hieb':[1000,int(self.ang*0.3),1000],\n",
    "            'Tritt':[5,int(self.ang*0.7),5],\n",
    "            'Kopfstoß':[2,int(self.ang),2]      #dict mit möglichen Angriffen, erste Zahl ist\n",
    "        }                                     # wie oft man den Angriff ausführen kann \n",
    "                                              # zweite Zahl in Liste ist die Stärke der Attacke (müsste man wahrscheinlich eher\n",
    "                                              # von angriff und Vert berechnen als einfach eingeben, damit nicht jeder gleich ist)\n",
    "                                              # wie kann man für unterschiedliche Pokemon unterschiedliche Angriffe festlegen? jedes Pok eigene Klasse?\n",
    "        \n",
    "    def status(self):\n",
    "        print('Status von ', self.nam,':')\n",
    "        print('Angriff: ', self.ang)\n",
    "        print('Kritisch: ', self.krit)\n",
    "        print('Verteidigung: ', self.vert)\n",
    "        print('Leben: ', self.leb, 'von' , self.lebenges)\n",
    "        print('Exp: ', self.exp, 'von', self.exp_needed)\n",
    "        print('Level', self.level)\n",
    "        print()\n",
    "        if self.exp > self.exp_needed: \n",
    "            self.level_up()\n",
    "            print('Juhuuu, ',self.nam, ' hat Level ', self.level, ' erreicht!')\n",
    "        if self.level == 3:\n",
    "            self.evolve1()\n",
    "    \n",
    "    def level_up(self):\n",
    "        self.ang=int(self.ang*1.2)\n",
    "        self.vert = int(self.vert*1.2)\n",
    "        self.lebenges = int(self.lebenges*1.2)\n",
    "        self.exp = 0 \n",
    "        self.level+=1\n",
    "        self.leb = self.lebenges\n",
    "        self.exp_needed = int(self.exp_needed*1.1)\n",
    "        \n",
    "    def evolve1(self):\n",
    "        self.nam = self.entw1\n",
    "        \n",
    "    def kampf(self, pok2):\n",
    "        fangbar = random.randint(0,2)\n",
    "        gefangen = random.randint(0,2)\n",
    "        if self.tot or pok2.tot:\n",
    "            print('Kämpfen nicht möglich, eines der Pokemon hat keine Lebenspunkte mehr.')\n",
    "\n",
    "        while self.tot == False and pok2.tot ==False:\n",
    "            kritisch1 = random.randint(0,self.krit)\n",
    "            kritisch2 = random.randint(0,pok2.krit)\n",
    "\n",
    "            for key in self.angriffe:\n",
    "                print('Angriff:',key, '  Anzahl:', self.angriffe[key][0],'  Stärke:', self.angriffe[key][1])\n",
    "            ang_auswahl = input('Welchen Angriff willst du verwenden?')    \n",
    "            if ang_auswahl in self.angriffe and kritisch1 != 10: \n",
    "                pok2.leb = pok2.leb-int(self.angriffe[ang_auswahl][1])\n",
    "                self.angriffe[ang_auswahl][0] -=1\n",
    "                schaden = self.angriffe[ang_auswahl][1]\n",
    "            elif ang_auswahl in self.angriffe and kritisch1 == 10: \n",
    "                print('Kritischer Angriff!!!')\n",
    "                pok2.leb = pok2.leb-int(self.angriffe[ang_auswahl][1]*5)\n",
    "                self.angriffe[ang_auswahl][0] -=1\n",
    "            else:\n",
    "                print('Dein Pok hat dich nicht verstanden und setzt Hieb ein.')\n",
    "                pok2.leb = pok2.leb-int(self.angriffe['Hieb'][1])\n",
    "\n",
    "            \n",
    "            \n",
    "            if kritisch2 == 10:\n",
    "                self.leb = int(self.leb - pok2.ang/self.vert*10*5)\n",
    "            else:\n",
    "                self.leb = int(self.leb - pok2.ang/self.vert*10)\n",
    "            \n",
    "            \n",
    "            print(pok2.nam, ' hat ', pok2.leb, ' Lebenspunkte (-',self.angriffe[ang_auswahl][1],')')\n",
    "            print(self.nam, ' hat ', self.leb, ' Lebenspunkte (-',int(pok2.ang/self.vert*10),')')\n",
    "            print()\n",
    "            \n",
    "            \n",
    "            if self.leb <=0 and pok2.leb<=0:\n",
    "                if int(self.ang/pok2.vert*10) > int(pok2.ang/self.vert*10):\n",
    "                    print(pok2.nam, ' hat mit letzter Kraft ', self.nam, ' besiegt.')\n",
    "                    pok2.leb =10\n",
    "                else:\n",
    "                    print(self.nam, ' hat mit letzter Kraft ', pok2.nam, ' besiegt.')\n",
    "                    self.leb =10\n",
    "                \n",
    "            \n",
    "            if self.leb <= 0:\n",
    "                pok2.exp = pok2.exp + self.expgain\n",
    "                self.tot = True\n",
    "                self.leb = 0\n",
    "                weiter = input(str(self.nam)+'hat keine Lebenspunkte mehr, willst du weiter kämpfen? (Ja, Nein)')\n",
    "                if weiter == 'Ja':\n",
    "                    welchespok = input('Welches Pok willst du kämpfen lassen? (Nummer)')\n",
    "                    trainer.pok_sack[int(welchespok)-1].kampf(pok2)\n",
    "                    break\n",
    "            if pok2.leb <= 0:\n",
    "                self.exp = self.exp + pok2.expgain\n",
    "                pok2.tot = True\n",
    "                pok2.leb = 0\n",
    "                trainer.inventar['Gold'][0] += int((pok2.ang + pok2.vert + pok2.lebenges*0.5))\n",
    "                print('Du hast', int((pok2.ang + pok2.vert + pok2.lebenges*0.5)), 'Goldstücke erhalten')\n",
    "                \n",
    "        \n",
    "        if fangbar == 1 and pok2.leb<=0:\n",
    "            fangen = input(pok2.nam + 'scheint sich zu unterwerfen, willst du veruchen es zu fangen? (Ja, Nein)')\n",
    "                    \n",
    "            if fangen == 'Ja' and trainer.pok_ball > 0:\n",
    "                trainer.pok_ball-=1\n",
    "                        \n",
    "                if gefangen == 1:\n",
    "                    pok2.leb= pok2.lebenges\n",
    "                    pok2.tot = False\n",
    "                    trainer.pok_sack.append(pok2)\n",
    "                    print('Du hast', pok2.nam, 'gefangen!!!')\n",
    "                            \n",
    "                else:\n",
    "                    print('Schade,', pok2.nam, 'hat es sich anders überlegt...')\n",
    "            elif fangen == 'Nein':\n",
    "                print(pok2.nam, 'weiß nicht was es tun soll...')\n",
    "            else:\n",
    "                print('Keine Pokbälle mehr!')\n",
    "                print()\n",
    "        else:\n",
    "            print(pok2.nam, 'ist geflohen...') \n",
    "            print()\n",
    "                         \n",
    "        print(self.nam, 'hat jetzt noch ', self.leb, ' Leben')\n",
    "        print()\n",
    "          \n",
    "\n",
    "    def hohes_gras(self):\n",
    "            namen = [['Taubsi','Tauberich','Tauberus'],['Ditto', 'Litto', 'Schmidto'], ['Relaxo', 'Arbeito', 'Hustleo'], ['Raupi', 'Kokooni', 'Schmetterlingi']]\n",
    "            ang = int(self.ang*random.random()*2)\n",
    "            vert = int(self.vert*random.random()*2)\n",
    "            leb = int(self.lebenges*random.random()*1.5) \n",
    "            zuf_name = random.randint(0,3)\n",
    "            pokran = pokemon_genau(ang, vert, leb, namen[zuf_name][0],namen[zuf_name][1], namen[zuf_name][2])\n",
    "            print('Ein wildes ', pokran.nam, ' taucht auf!!!')\n",
    "            print('Ang.: ', pokran.ang, ' Vert.: ',pokran.vert, ' Leben: ', pokran.leb)\n",
    "            print()\n",
    "            self.kampf(pokran)\n",
    "            "
   ]
  },
  {
   "cell_type": "code",
   "execution_count": 51,
   "metadata": {},
   "outputs": [],
   "source": [
    "trainer.neues_pok(25,50,120,'Feu','Feufeu','Feufeufeu')\n",
    "trainer.neues_pok(10,15,200,'Bisasam', 'Bisaknosp', 'Bisaflor')"
   ]
  },
  {
   "cell_type": "code",
   "execution_count": 52,
   "metadata": {},
   "outputs": [
    {
     "name": "stdout",
     "output_type": "stream",
     "text": [
      "Möglichkeiten: dict_keys(['Poks anschauen', 'Hohes Gras', 'Status', 'Inventar', 'Trank einsetzen', 'Attacke auffüllen', 'Shop'])\n"
     ]
    },
    {
     "name": "stdin",
     "output_type": "stream",
     "text": [
      "Was willst du tun? Shop\n"
     ]
    },
    {
     "name": "stdout",
     "output_type": "stream",
     "text": [
      "\n",
      "Hallo, du brauchen, ich haben:\n",
      "Trank   Anzahl: 1 zu je 300 Gold\n",
      "Pokball   Anzahl: 2 zu je 50 Gold\n",
      "Attacke auffüllen   Anzahl: 5 zu je 100 Gold\n"
     ]
    },
    {
     "name": "stdin",
     "output_type": "stream",
     "text": [
      "Was willst du kaufen? Attacke auffüllen\n",
      "Wie viel Stück willst du kaufen? 1\n"
     ]
    },
    {
     "name": "stdout",
     "output_type": "stream",
     "text": [
      "Du hast 1 mal Attacke auffüllen um je  100 Goldstücke gekauft.\n",
      "Du hast jetzt 1 Attacke auffüllen\n",
      "\n",
      "Möglichkeiten: dict_keys(['Poks anschauen', 'Hohes Gras', 'Status', 'Inventar', 'Trank einsetzen', 'Attacke auffüllen', 'Shop'])\n"
     ]
    },
    {
     "name": "stdin",
     "output_type": "stream",
     "text": [
      "Was willst du tun? Attacke auffüllen\n"
     ]
    },
    {
     "name": "stdout",
     "output_type": "stream",
     "text": [
      "\n",
      "In deinem Poksack befinden sich:\n",
      "1 . Feu\n",
      "2 . Bisasam\n",
      "\n"
     ]
    },
    {
     "name": "stdin",
     "output_type": "stream",
     "text": [
      "Welches Pok willst du auffüllen lassen? (Nummer) 2\n"
     ]
    },
    {
     "name": "stdout",
     "output_type": "stream",
     "text": [
      "\n",
      "Möglichkeiten: dict_keys(['Poks anschauen', 'Hohes Gras', 'Status', 'Inventar', 'Trank einsetzen', 'Attacke auffüllen', 'Shop'])\n"
     ]
    },
    {
     "name": "stdin",
     "output_type": "stream",
     "text": [
      "Was willst du tun? e\n"
     ]
    },
    {
     "name": "stdout",
     "output_type": "stream",
     "text": [
      "\n",
      "SPIEL BEENDET\n"
     ]
    }
   ],
   "source": [
    "Commands = {\n",
    "    'Poks anschauen' : trainer.sack_anschauen,\n",
    "    'Hohes Gras' : trainer.hohes_gras_funkt,\n",
    "    'Status' : trainer.status_funkt,\n",
    "    'Inventar' : trainer.inventar_anschauen,\n",
    "    'Trank einsetzen' : trainer.heile_pok,\n",
    "    'Attacke auffüllen' : trainer.attacke_auffüllung,\n",
    "    'Shop' : shop1.shopping,\n",
    "}\n",
    "inp = ''\n",
    "while inp != 'e':\n",
    "    print('Möglichkeiten:' ,Commands.keys())\n",
    "    inp = input('Was willst du tun?')\n",
    "    print()\n",
    "    \n",
    "    try: \n",
    "        if inp in Commands:\n",
    "            Commands[inp]()\n",
    "        elif inp == 'e':\n",
    "            break\n",
    "        else:\n",
    "            print('Das ist keine Option, achte auf Groß/Klein, Abstände usw.!')\n",
    "            print()\n",
    "    except IndexError and ValueError:\n",
    "        print('Achtung, es können nur die Nummern der Pokemon eingegeben werden!')\n",
    "        print()\n",
    "print('SPIEL BEENDET')"
   ]
  },
  {
   "cell_type": "code",
   "execution_count": 103,
   "metadata": {},
   "outputs": [
    {
     "data": {
      "text/plain": [
       "1000"
      ]
     },
     "execution_count": 103,
     "metadata": {},
     "output_type": "execute_result"
    }
   ],
   "source": []
  },
  {
   "cell_type": "code",
   "execution_count": 57,
   "metadata": {},
   "outputs": [
    {
     "data": {
      "text/plain": [
       "[1, 7]"
      ]
     },
     "execution_count": 57,
     "metadata": {},
     "output_type": "execute_result"
    }
   ],
   "source": [
    "trainer.pok_sack[0].angriffe['Hieb']"
   ]
  },
  {
   "cell_type": "code",
   "execution_count": null,
   "metadata": {},
   "outputs": [],
   "source": []
  }
 ],
 "metadata": {
  "kernelspec": {
   "display_name": "Python 3",
   "language": "python",
   "name": "python3"
  },
  "language_info": {
   "codemirror_mode": {
    "name": "ipython",
    "version": 3
   },
   "file_extension": ".py",
   "mimetype": "text/x-python",
   "name": "python",
   "nbconvert_exporter": "python",
   "pygments_lexer": "ipython3",
   "version": "3.8.3"
  }
 },
 "nbformat": 4,
 "nbformat_minor": 4
}
